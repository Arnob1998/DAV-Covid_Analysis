{
 "cells": [
  {
   "cell_type": "code",
   "execution_count": 1,
   "metadata": {},
   "outputs": [],
   "source": [
    "import pandas as pd"
   ]
  },
  {
   "cell_type": "code",
   "execution_count": 2,
   "metadata": {},
   "outputs": [],
   "source": [
    "# https://github.com/CSSEGISandData/COVID-19/tree/master/csse_covid_19_data/csse_covid_19_time_series\n",
    "covid_set = pd.read_csv(\"data/time_series_covid19_confirmed_global.csv\")"
   ]
  },
  {
   "cell_type": "code",
   "execution_count": 3,
   "metadata": {},
   "outputs": [
    {
     "data": {
      "text/plain": [
       "Index(['Province/State', 'Country/Region', 'Lat', 'Long', '1/22/20', '1/23/20',\n",
       "       '1/24/20', '1/25/20', '1/26/20', '1/27/20',\n",
       "       ...\n",
       "       '10/15/20', '10/16/20', '10/17/20', '10/18/20', '10/19/20', '10/20/20',\n",
       "       '10/21/20', '10/22/20', '10/23/20', '10/24/20'],\n",
       "      dtype='object', length=281)"
      ]
     },
     "execution_count": 3,
     "metadata": {},
     "output_type": "execute_result"
    }
   ],
   "source": [
    "covid_set.columns"
   ]
  },
  {
   "cell_type": "code",
   "execution_count": 4,
   "metadata": {},
   "outputs": [],
   "source": [
    "covid_set = covid_set.drop([\"Province/State\", \"Lat\", \"Long\"], axis = \"columns\")"
   ]
  },
  {
   "cell_type": "code",
   "execution_count": 5,
   "metadata": {},
   "outputs": [
    {
     "data": {
      "text/html": [
       "<div>\n",
       "<style scoped>\n",
       "    .dataframe tbody tr th:only-of-type {\n",
       "        vertical-align: middle;\n",
       "    }\n",
       "\n",
       "    .dataframe tbody tr th {\n",
       "        vertical-align: top;\n",
       "    }\n",
       "\n",
       "    .dataframe thead th {\n",
       "        text-align: right;\n",
       "    }\n",
       "</style>\n",
       "<table border=\"1\" class=\"dataframe\">\n",
       "  <thead>\n",
       "    <tr style=\"text-align: right;\">\n",
       "      <th></th>\n",
       "      <th>Country/Region</th>\n",
       "      <th>1/22/20</th>\n",
       "      <th>1/23/20</th>\n",
       "      <th>1/24/20</th>\n",
       "      <th>1/25/20</th>\n",
       "      <th>1/26/20</th>\n",
       "      <th>1/27/20</th>\n",
       "      <th>1/28/20</th>\n",
       "      <th>1/29/20</th>\n",
       "      <th>1/30/20</th>\n",
       "      <th>...</th>\n",
       "      <th>10/15/20</th>\n",
       "      <th>10/16/20</th>\n",
       "      <th>10/17/20</th>\n",
       "      <th>10/18/20</th>\n",
       "      <th>10/19/20</th>\n",
       "      <th>10/20/20</th>\n",
       "      <th>10/21/20</th>\n",
       "      <th>10/22/20</th>\n",
       "      <th>10/23/20</th>\n",
       "      <th>10/24/20</th>\n",
       "    </tr>\n",
       "  </thead>\n",
       "  <tbody>\n",
       "    <tr>\n",
       "      <th>0</th>\n",
       "      <td>Afghanistan</td>\n",
       "      <td>0</td>\n",
       "      <td>0</td>\n",
       "      <td>0</td>\n",
       "      <td>0</td>\n",
       "      <td>0</td>\n",
       "      <td>0</td>\n",
       "      <td>0</td>\n",
       "      <td>0</td>\n",
       "      <td>0</td>\n",
       "      <td>...</td>\n",
       "      <td>40026</td>\n",
       "      <td>40073</td>\n",
       "      <td>40141</td>\n",
       "      <td>40200</td>\n",
       "      <td>40287</td>\n",
       "      <td>40357</td>\n",
       "      <td>40510</td>\n",
       "      <td>40626</td>\n",
       "      <td>40687</td>\n",
       "      <td>40768</td>\n",
       "    </tr>\n",
       "    <tr>\n",
       "      <th>1</th>\n",
       "      <td>Albania</td>\n",
       "      <td>0</td>\n",
       "      <td>0</td>\n",
       "      <td>0</td>\n",
       "      <td>0</td>\n",
       "      <td>0</td>\n",
       "      <td>0</td>\n",
       "      <td>0</td>\n",
       "      <td>0</td>\n",
       "      <td>0</td>\n",
       "      <td>...</td>\n",
       "      <td>16212</td>\n",
       "      <td>16501</td>\n",
       "      <td>16774</td>\n",
       "      <td>17055</td>\n",
       "      <td>17350</td>\n",
       "      <td>17651</td>\n",
       "      <td>17948</td>\n",
       "      <td>18250</td>\n",
       "      <td>18556</td>\n",
       "      <td>18858</td>\n",
       "    </tr>\n",
       "    <tr>\n",
       "      <th>2</th>\n",
       "      <td>Algeria</td>\n",
       "      <td>0</td>\n",
       "      <td>0</td>\n",
       "      <td>0</td>\n",
       "      <td>0</td>\n",
       "      <td>0</td>\n",
       "      <td>0</td>\n",
       "      <td>0</td>\n",
       "      <td>0</td>\n",
       "      <td>0</td>\n",
       "      <td>...</td>\n",
       "      <td>53777</td>\n",
       "      <td>53998</td>\n",
       "      <td>54203</td>\n",
       "      <td>54402</td>\n",
       "      <td>54616</td>\n",
       "      <td>54829</td>\n",
       "      <td>55081</td>\n",
       "      <td>55357</td>\n",
       "      <td>55630</td>\n",
       "      <td>55880</td>\n",
       "    </tr>\n",
       "    <tr>\n",
       "      <th>3</th>\n",
       "      <td>Andorra</td>\n",
       "      <td>0</td>\n",
       "      <td>0</td>\n",
       "      <td>0</td>\n",
       "      <td>0</td>\n",
       "      <td>0</td>\n",
       "      <td>0</td>\n",
       "      <td>0</td>\n",
       "      <td>0</td>\n",
       "      <td>0</td>\n",
       "      <td>...</td>\n",
       "      <td>3190</td>\n",
       "      <td>3377</td>\n",
       "      <td>3377</td>\n",
       "      <td>3377</td>\n",
       "      <td>3623</td>\n",
       "      <td>3623</td>\n",
       "      <td>3811</td>\n",
       "      <td>3811</td>\n",
       "      <td>4038</td>\n",
       "      <td>4038</td>\n",
       "    </tr>\n",
       "    <tr>\n",
       "      <th>4</th>\n",
       "      <td>Angola</td>\n",
       "      <td>0</td>\n",
       "      <td>0</td>\n",
       "      <td>0</td>\n",
       "      <td>0</td>\n",
       "      <td>0</td>\n",
       "      <td>0</td>\n",
       "      <td>0</td>\n",
       "      <td>0</td>\n",
       "      <td>0</td>\n",
       "      <td>...</td>\n",
       "      <td>7096</td>\n",
       "      <td>7222</td>\n",
       "      <td>7462</td>\n",
       "      <td>7622</td>\n",
       "      <td>7829</td>\n",
       "      <td>8049</td>\n",
       "      <td>8338</td>\n",
       "      <td>8582</td>\n",
       "      <td>8829</td>\n",
       "      <td>9026</td>\n",
       "    </tr>\n",
       "  </tbody>\n",
       "</table>\n",
       "<p>5 rows × 278 columns</p>\n",
       "</div>"
      ],
      "text/plain": [
       "  Country/Region  1/22/20  1/23/20  1/24/20  1/25/20  1/26/20  1/27/20  \\\n",
       "0    Afghanistan        0        0        0        0        0        0   \n",
       "1        Albania        0        0        0        0        0        0   \n",
       "2        Algeria        0        0        0        0        0        0   \n",
       "3        Andorra        0        0        0        0        0        0   \n",
       "4         Angola        0        0        0        0        0        0   \n",
       "\n",
       "   1/28/20  1/29/20  1/30/20  ...  10/15/20  10/16/20  10/17/20  10/18/20  \\\n",
       "0        0        0        0  ...     40026     40073     40141     40200   \n",
       "1        0        0        0  ...     16212     16501     16774     17055   \n",
       "2        0        0        0  ...     53777     53998     54203     54402   \n",
       "3        0        0        0  ...      3190      3377      3377      3377   \n",
       "4        0        0        0  ...      7096      7222      7462      7622   \n",
       "\n",
       "   10/19/20  10/20/20  10/21/20  10/22/20  10/23/20  10/24/20  \n",
       "0     40287     40357     40510     40626     40687     40768  \n",
       "1     17350     17651     17948     18250     18556     18858  \n",
       "2     54616     54829     55081     55357     55630     55880  \n",
       "3      3623      3623      3811      3811      4038      4038  \n",
       "4      7829      8049      8338      8582      8829      9026  \n",
       "\n",
       "[5 rows x 278 columns]"
      ]
     },
     "execution_count": 5,
     "metadata": {},
     "output_type": "execute_result"
    }
   ],
   "source": [
    "covid_set.head(5)"
   ]
  },
  {
   "cell_type": "code",
   "execution_count": 6,
   "metadata": {},
   "outputs": [
    {
     "name": "stdout",
     "output_type": "stream",
     "text": [
      "{'1': 10, '2': 29, '3': 31, '4': 30, '5': 31, '6': 30, '7': 31, '8': 31, '9': 30, '10': 24}\n"
     ]
    }
   ],
   "source": [
    "datestamp = covid_set.columns\n",
    "count = {}\n",
    "\n",
    "for date in datestamp[1:]: # ignore first column\n",
    "    MDY = date.split(\"/\") # MDY = month date year\n",
    "    if MDY[0] in count.keys():\n",
    "        count[MDY[0]] = count[MDY[0]]+1\n",
    "    else:\n",
    "        count[MDY[0]] = 1\n",
    "\n",
    "print(count)"
   ]
  },
  {
   "cell_type": "code",
   "execution_count": 7,
   "metadata": {},
   "outputs": [],
   "source": [
    "country_filt = covid_set[\"Country/Region\"] == \"Bangladesh\"\n",
    "bd = covid_set[country_filt]"
   ]
  },
  {
   "cell_type": "code",
   "execution_count": 8,
   "metadata": {},
   "outputs": [
    {
     "data": {
      "text/html": [
       "<div>\n",
       "<style scoped>\n",
       "    .dataframe tbody tr th:only-of-type {\n",
       "        vertical-align: middle;\n",
       "    }\n",
       "\n",
       "    .dataframe tbody tr th {\n",
       "        vertical-align: top;\n",
       "    }\n",
       "\n",
       "    .dataframe thead th {\n",
       "        text-align: right;\n",
       "    }\n",
       "</style>\n",
       "<table border=\"1\" class=\"dataframe\">\n",
       "  <thead>\n",
       "    <tr style=\"text-align: right;\">\n",
       "      <th></th>\n",
       "      <th>Country/Region</th>\n",
       "      <th>1/22/20</th>\n",
       "      <th>1/23/20</th>\n",
       "      <th>1/24/20</th>\n",
       "      <th>1/25/20</th>\n",
       "      <th>1/26/20</th>\n",
       "      <th>1/27/20</th>\n",
       "      <th>1/28/20</th>\n",
       "      <th>1/29/20</th>\n",
       "      <th>1/30/20</th>\n",
       "      <th>...</th>\n",
       "      <th>10/15/20</th>\n",
       "      <th>10/16/20</th>\n",
       "      <th>10/17/20</th>\n",
       "      <th>10/18/20</th>\n",
       "      <th>10/19/20</th>\n",
       "      <th>10/20/20</th>\n",
       "      <th>10/21/20</th>\n",
       "      <th>10/22/20</th>\n",
       "      <th>10/23/20</th>\n",
       "      <th>10/24/20</th>\n",
       "    </tr>\n",
       "  </thead>\n",
       "  <tbody>\n",
       "    <tr>\n",
       "      <th>20</th>\n",
       "      <td>Bangladesh</td>\n",
       "      <td>0</td>\n",
       "      <td>0</td>\n",
       "      <td>0</td>\n",
       "      <td>0</td>\n",
       "      <td>0</td>\n",
       "      <td>0</td>\n",
       "      <td>0</td>\n",
       "      <td>0</td>\n",
       "      <td>0</td>\n",
       "      <td>...</td>\n",
       "      <td>384559</td>\n",
       "      <td>386086</td>\n",
       "      <td>387295</td>\n",
       "      <td>388569</td>\n",
       "      <td>390206</td>\n",
       "      <td>391586</td>\n",
       "      <td>393131</td>\n",
       "      <td>394827</td>\n",
       "      <td>396413</td>\n",
       "      <td>397507</td>\n",
       "    </tr>\n",
       "  </tbody>\n",
       "</table>\n",
       "<p>1 rows × 278 columns</p>\n",
       "</div>"
      ],
      "text/plain": [
       "   Country/Region  1/22/20  1/23/20  1/24/20  1/25/20  1/26/20  1/27/20  \\\n",
       "20     Bangladesh        0        0        0        0        0        0   \n",
       "\n",
       "    1/28/20  1/29/20  1/30/20  ...  10/15/20  10/16/20  10/17/20  10/18/20  \\\n",
       "20        0        0        0  ...    384559    386086    387295    388569   \n",
       "\n",
       "    10/19/20  10/20/20  10/21/20  10/22/20  10/23/20  10/24/20  \n",
       "20    390206    391586    393131    394827    396413    397507  \n",
       "\n",
       "[1 rows x 278 columns]"
      ]
     },
     "execution_count": 8,
     "metadata": {},
     "output_type": "execute_result"
    }
   ],
   "source": [
    "bd"
   ]
  },
  {
   "cell_type": "code",
   "execution_count": 9,
   "metadata": {},
   "outputs": [],
   "source": [
    "temp_bd = bd.drop(\"Country/Region\", axis = \"columns\")"
   ]
  },
  {
   "cell_type": "code",
   "execution_count": 10,
   "metadata": {},
   "outputs": [],
   "source": [
    "month = []\n",
    "for key, value in count.items():\n",
    "    month.append(key)\n",
    "# datestamp\n",
    "\n",
    "start = 0\n",
    "finish = 0 # dummy value\n",
    "\n",
    "month_name = [\"January\",\"February\",\"March\",\"April\",\"May\",\"June\",\"July\",\"August\",\"September\",\"October\",\"November\",\"December\"]\n",
    "\n",
    "monthy_case = {}\n",
    "\n",
    "for i in range(0,len(month)):\n",
    "    finish = finish + count[month[i]]\n",
    "    sum_series = temp_bd.iloc[:,start:finish].sum(axis = \"columns\")\n",
    "    start = finish\n",
    "    \n",
    "    for index,value in sum_series.items():\n",
    "        monthy_case[month_name[i]] = value # parse value from series [format before: index value]"
   ]
  },
  {
   "cell_type": "code",
   "execution_count": 11,
   "metadata": {},
   "outputs": [
    {
     "data": {
      "text/plain": [
       "{'January': 0,\n",
       " 'February': 0,\n",
       " 'March': 546,\n",
       " 'April': 70283,\n",
       " 'May': 731311,\n",
       " 'June': 2836656,\n",
       " 'July': 6049862,\n",
       " 'August': 8565945,\n",
       " 'September': 10232791,\n",
       " 'October': 9142491}"
      ]
     },
     "execution_count": 11,
     "metadata": {},
     "output_type": "execute_result"
    }
   ],
   "source": [
    "monthy_case"
   ]
  },
  {
   "cell_type": "code",
   "execution_count": 28,
   "metadata": {},
   "outputs": [],
   "source": [
    "from matplotlib import pyplot as plt\n",
    "\n",
    "index = []\n",
    "value = []\n",
    "\n",
    "for key in monthy_case.keys():\n",
    "    index.append(key)\n",
    "    value.append(monthy_case[key])"
   ]
  },
  {
   "cell_type": "code",
   "execution_count": 49,
   "metadata": {},
   "outputs": [
    {
     "name": "stdout",
     "output_type": "stream",
     "text": [
      "Cases from '1/22/20' to '10/24/20'\n"
     ]
    },
    {
     "data": {
      "image/png": "[encoded data removed]",
      "text/plain": [
       "<Figure size 1440x720 with 1 Axes>"
      ]
     },
     "metadata": {
      "needs_background": "light"
     },
     "output_type": "display_data"
    }
   ],
   "source": [
    "plt.figure(figsize=(20,10))\n",
    "plt.plot(index,value)\n",
    "print(\"Cases from '1/22/20' to '10/24/20'\")"
   ]
  },
  {
   "cell_type": "markdown",
   "metadata": {},
   "source": [
    "### These do not represent the actual number of cases."
   ]
  }
 ],
 "metadata": {
  "kernelspec": {
   "display_name": "Python 3",
   "language": "python",
   "name": "python3"
  },
  "language_info": {
   "codemirror_mode": {
    "name": "ipython",
    "version": 3
   },
   "file_extension": ".py",
   "mimetype": "text/x-python",
   "name": "python",
   "nbconvert_exporter": "python",
   "pygments_lexer": "ipython3",
   "version": "3.7.9"
  }
 },
 "nbformat": 4,
 "nbformat_minor": 4
}
